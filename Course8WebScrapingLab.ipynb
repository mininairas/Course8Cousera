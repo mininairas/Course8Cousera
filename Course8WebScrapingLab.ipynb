{
 "cells": [
  {
   "cell_type": "code",
   "execution_count": 2,
   "id": "4112a5ab-8cd8-45f1-bda7-614020d33381",
   "metadata": {},
   "outputs": [],
   "source": [
    "url = \"https://cf-courses-data.s3.us.cloud-object-storage.appdomain.cloud/IBM-DA0321EN-SkillsNetwork/labs/datasets/Programming_Languages.html\""
   ]
  },
  {
   "cell_type": "code",
   "execution_count": 9,
   "id": "ddb0bd92-f6ab-47fc-b8f2-6a1ed3c90af5",
   "metadata": {},
   "outputs": [],
   "source": [
    "from bs4 import BeautifulSoup as bs\n",
    "import requests\n",
    "import pandas as pd"
   ]
  },
  {
   "cell_type": "code",
   "execution_count": 6,
   "id": "b8bd6669-a570-4482-b65d-441e9717e123",
   "metadata": {},
   "outputs": [],
   "source": [
    "data = requests.get(url).text"
   ]
  },
  {
   "cell_type": "code",
   "execution_count": 7,
   "id": "f6b02479-db9d-4f34-9d4a-79d403a3f443",
   "metadata": {},
   "outputs": [],
   "source": [
    "soup = bs(data,\"html5lib\")"
   ]
  },
  {
   "cell_type": "code",
   "execution_count": 27,
   "id": "738c0f46-d9a8-4c39-b84f-b93276db63d2",
   "metadata": {},
   "outputs": [
    {
     "name": "stdout",
     "output_type": "stream",
     "text": [
      "     Language Avg Salary\n",
      "0      Python   $114,383\n",
      "1        Java   $101,013\n",
      "2           R    $92,037\n",
      "3  Javascript   $110,981\n",
      "4       Swift   $130,801\n",
      "5         C++   $113,865\n",
      "6          C#    $88,726\n",
      "7         PHP    $84,727\n",
      "8         SQL    $84,793\n",
      "9          Go    $94,082\n"
     ]
    }
   ],
   "source": [
    "#your code goes here\n",
    "table = soup.find(\"table\")\n",
    "df = pd.DataFrame(columns=['Language','Avg Salary'])\n",
    "\n",
    "for row in table.find_all('tr'):\n",
    "    cols= row.find_all('td')\n",
    "    language= cols[1].getText()\n",
    "    salary = cols[3].getText()\n",
    "    df = df._append({'Language': language, 'Avg Salary': salary}, ignore_index=True)  \n",
    "\n",
    "df.drop(0, inplace=True)\n",
    "df.reset_index(drop=True, inplace=True)\n",
    "print(df)"
   ]
  },
  {
   "cell_type": "code",
   "execution_count": 30,
   "id": "8a6bc811-97ee-4db0-b781-c1302c6d2dfc",
   "metadata": {},
   "outputs": [],
   "source": [
    "df.to_csv(r\"C:\\Users\\rajes\\OneDrive\\Desktop\\Course8 Project\\popular-languages.csv\", index=False)"
   ]
  },
  {
   "cell_type": "code",
   "execution_count": null,
   "id": "ad75dffe-11f5-4140-a96b-3ab2b64c5659",
   "metadata": {},
   "outputs": [],
   "source": []
  }
 ],
 "metadata": {
  "kernelspec": {
   "display_name": "Python 3 (ipykernel)",
   "language": "python",
   "name": "python3"
  },
  "language_info": {
   "codemirror_mode": {
    "name": "ipython",
    "version": 3
   },
   "file_extension": ".py",
   "mimetype": "text/x-python",
   "name": "python",
   "nbconvert_exporter": "python",
   "pygments_lexer": "ipython3",
   "version": "3.11.7"
  }
 },
 "nbformat": 4,
 "nbformat_minor": 5
}
